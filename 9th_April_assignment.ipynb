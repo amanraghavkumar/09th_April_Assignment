{
 "cells": [
  {
   "cell_type": "markdown",
   "id": "f531175d",
   "metadata": {},
   "source": [
    "Q1. What is Bayes' theorem?"
   ]
  },
  {
   "cell_type": "markdown",
   "id": "f5c220d8",
   "metadata": {},
   "source": [
    "Bayes' theorem is a fundamental concept in probability theory that describes the probability of an event, based on prior knowledge of conditions that might be related to the event. It is named after the Reverend Thomas Bayes, who introduced the theorem. Bayes' theorem is particularly useful in statistical inference and machine learning.\n",
    "\n"
   ]
  },
  {
   "cell_type": "markdown",
   "id": "0f43552f",
   "metadata": {},
   "source": [
    "Q2. What is the formula for Bayes' theorem?"
   ]
  },
  {
   "cell_type": "markdown",
   "id": "f4345304",
   "metadata": {},
   "source": [
    "P(A∣B)= P(B∣A)⋅P(A)/p(B)\n"
   ]
  },
  {
   "cell_type": "markdown",
   "id": "cd913c0c",
   "metadata": {},
   "source": [
    "Q3. How is Bayes' theorem used in practice?"
   ]
  },
  {
   "cell_type": "markdown",
   "id": "cbbc3abd",
   "metadata": {},
   "source": [
    "Bayes' theorem is widely used in various fields, including statistics, machine learning, and artificial intelligence. It is applied in Bayesian inference, where it helps update the probability of hypotheses based on new evidence. In machine learning, Bayes' theorem is fundamental to Naive Bayes classifiers, which make predictions by combining prior knowledge with current evidence."
   ]
  },
  {
   "cell_type": "markdown",
   "id": "9e6b0f89",
   "metadata": {},
   "source": [
    "Q4. What is the relationship between Bayes' theorem and conditional probability?"
   ]
  },
  {
   "cell_type": "markdown",
   "id": "3d950774",
   "metadata": {},
   "source": [
    "Bayes' theorem is a formula that relates conditional probability. The term \n",
    "P(A∣B) represents the probability of event A given that B has occurred, which is a form of conditional probability. Bayes' theorem provides a way to update or revise this conditional probability based on new evidence."
   ]
  },
  {
   "cell_type": "markdown",
   "id": "644fbb4e",
   "metadata": {},
   "source": [
    "Q5. How do you choose which type of Naive Bayes classifier to use for any given problem?"
   ]
  },
  {
   "cell_type": "markdown",
   "id": "4f7e9e4e",
   "metadata": {},
   "source": [
    "The choice of the type of Naive Bayes classifier (Gaussian, Multinomial, or Bernoulli) depends on the nature of the data:\n",
    "\n",
    "* Gaussian Naive Bayes: Suitable for continuous numerical data.\n",
    "    \n",
    "* Multinomial Naive Bayes: Typically used for discrete data, like text data with word counts.\n",
    "    \n",
    "* Bernoulli Naive Bayes: Appropriate for binary data, where features are either present or absent."
   ]
  },
  {
   "cell_type": "code",
   "execution_count": null,
   "id": "c85efbaf",
   "metadata": {},
   "outputs": [],
   "source": []
  }
 ],
 "metadata": {
  "kernelspec": {
   "display_name": "Python 3 (ipykernel)",
   "language": "python",
   "name": "python3"
  },
  "language_info": {
   "codemirror_mode": {
    "name": "ipython",
    "version": 3
   },
   "file_extension": ".py",
   "mimetype": "text/x-python",
   "name": "python",
   "nbconvert_exporter": "python",
   "pygments_lexer": "ipython3",
   "version": "3.10.9"
  }
 },
 "nbformat": 4,
 "nbformat_minor": 5
}
